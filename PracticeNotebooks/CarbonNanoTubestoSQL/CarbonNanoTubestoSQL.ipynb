{
 "cells": [
  {
   "cell_type": "markdown",
   "id": "4419bf71-0fc1-448f-b144-a49bb7dc6a57",
   "metadata": {
    "tags": []
   },
   "source": [
    "## Carbon Nanotubes Data to SQL Table"
   ]
  },
  {
   "cell_type": "code",
   "execution_count": null,
   "id": "687e74e5-0238-47c5-95cd-7621f24ae34f",
   "metadata": {},
   "outputs": [],
   "source": [
    "import mysql.connector as connection\n",
    "import pandas as pd\n",
    "import csv\n",
    "\n",
    "try:\n",
    "    mydb = connection.connect(host = 'localhost',user='root',password='mysql',use_pure=True)\n",
    "    cur = mydb.cursor()\n",
    "\n",
    "    # create Table for Carbon nanotubes in SQL\n",
    "    cur.execute(\"\"\"create table IF NOT EXISTS test1.CNT(Chiral_indice_n INT(10),\n",
    "            Chiral_indice_m INT(10),\n",
    "            Initial_atomic_coordinate_u varchar(20),\n",
    "            Initial_atomic_coordinate_v varchar(20),\n",
    "            Initial_atomic_coordinate_w varchar(20), \n",
    "            Calculated_atomic_coordinates_u varchar(20),\n",
    "            Calculated_atomic_coordinates_v varchar(20), \n",
    "            Calculated_atomic_coordinates_w varchar(20))\"\"\")\n",
    "\n",
    "    #Read process and insert data into table1.CNT in SQL\n",
    "    with open('carbon_nanotubes.csv','r') as data:\n",
    "        next(data) #move on from the first line of the dataset\n",
    "        data_csv = csv.reader(data,delimiter='\\n')\n",
    "        print(data_csv)\n",
    "        split_data = []\n",
    "        for i in data_csv:\n",
    "            i = i[0].replace(',','.').replace(';',',').split(',')\n",
    "            cur.execute(\"insert into test1.CNT values({})\".format(\",\".join([str(a) for a in i])))\n",
    "            #print(i)\n",
    "        \n",
    "    #Commit data written to table1.CNT\n",
    "    mydb.commit()\n",
    "except Exception as e:\n",
    "    print(e)\n",
    "finally:\n",
    "    mydb.close()"
   ]
  }
 ],
 "metadata": {
  "kernelspec": {
   "display_name": "Python 3 (ipykernel)",
   "language": "python",
   "name": "python3"
  },
  "language_info": {
   "codemirror_mode": {
    "name": "ipython",
    "version": 3
   },
   "file_extension": ".py",
   "mimetype": "text/x-python",
   "name": "python",
   "nbconvert_exporter": "python",
   "pygments_lexer": "ipython3",
   "version": "3.9.12"
  }
 },
 "nbformat": 4,
 "nbformat_minor": 5
}
