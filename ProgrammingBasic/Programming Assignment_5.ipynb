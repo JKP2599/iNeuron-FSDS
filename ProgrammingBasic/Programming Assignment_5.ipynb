{
 "cells": [
  {
   "cell_type": "markdown",
   "id": "175293e1-c833-448b-a497-79d6bd3bf7f2",
   "metadata": {},
   "source": [
    "1. Write a Python Program to Find LCM?"
   ]
  },
  {
   "cell_type": "code",
   "execution_count": 1,
   "id": "0f1ca29e-6a73-45ee-9b63-6ea23d4dce8a",
   "metadata": {},
   "outputs": [
    {
     "name": "stdin",
     "output_type": "stream",
     "text": [
      " 44\n",
      " 56\n"
     ]
    },
    {
     "name": "stdout",
     "output_type": "stream",
     "text": [
      "616\n"
     ]
    }
   ],
   "source": [
    "num1,num2 = [int(input()) for i in range(2)]\n",
    "\n",
    "greater = max(num1,num2)\n",
    "lcm = 0\n",
    "while(True):\n",
    "    if((greater%num1==0) and (greater%num2==0)):\n",
    "        lcm = greater\n",
    "        break\n",
    "    else:\n",
    "        greater+=1\n",
    "\n",
    "print(lcm)"
   ]
  },
  {
   "cell_type": "markdown",
   "id": "d3e0f182-50ca-4617-8496-a84c7fdf0d04",
   "metadata": {},
   "source": [
    "2. Write a Python Program to Find HCF?"
   ]
  },
  {
   "cell_type": "code",
   "execution_count": 2,
   "id": "060875d9-3d93-4856-9cb6-3521c523e77e",
   "metadata": {},
   "outputs": [
    {
     "name": "stdin",
     "output_type": "stream",
     "text": [
      " 8\n",
      " 12\n"
     ]
    },
    {
     "name": "stdout",
     "output_type": "stream",
     "text": [
      "4\n"
     ]
    }
   ],
   "source": [
    "num1,num2 = [int(input()) for i in range(2)]\n",
    "\n",
    "smaller = min(num1,num2)\n",
    "\n",
    "for i in reversed(range(1,smaller+1)):\n",
    "    if((num1%i==0) and (num2%i==0)):\n",
    "        hcf = i\n",
    "        break\n",
    "\n",
    "print(hcf)"
   ]
  },
  {
   "cell_type": "markdown",
   "id": "a2fad521-8e68-4bb6-8952-ff9e474746ef",
   "metadata": {},
   "source": [
    "3. Write a Python Program to Convert Decimal to Binary, Octal and Hexadecimal?"
   ]
  },
  {
   "cell_type": "code",
   "execution_count": 3,
   "id": "d04603df-e175-435a-bba7-61e04c4e3a03",
   "metadata": {},
   "outputs": [
    {
     "name": "stdin",
     "output_type": "stream",
     "text": [
      " 45\n"
     ]
    },
    {
     "name": "stdout",
     "output_type": "stream",
     "text": [
      "Decimal: 45 \n",
      "Binary: 101101 \n",
      "Octal: 55 \n",
      "Hexadecimal: 2D\n"
     ]
    }
   ],
   "source": [
    "n = int(input())\n",
    "print('Decimal: {} \\nBinary: {} \\nOctal: {} \\nHexadecimal: {}'.format(n,bin(n)[2:],oct(n)[2:],hex(n)[2:].upper()))"
   ]
  },
  {
   "cell_type": "markdown",
   "id": "090c8f0b-95f9-40b0-a215-6c28e17988a0",
   "metadata": {},
   "source": [
    "4. Write a Python Program To Find ASCII value of a character?"
   ]
  },
  {
   "cell_type": "code",
   "execution_count": 4,
   "id": "21951760-4314-4dde-af5c-bf6eb17225dd",
   "metadata": {},
   "outputs": [
    {
     "name": "stdin",
     "output_type": "stream",
     "text": [
      " d\n"
     ]
    },
    {
     "name": "stdout",
     "output_type": "stream",
     "text": [
      "The ASCII value of d is 100\n"
     ]
    }
   ],
   "source": [
    "char = input()\n",
    "\n",
    "print('The ASCII value of {} is {}'.format(char,ord(char[0])))"
   ]
  },
  {
   "cell_type": "markdown",
   "id": "e40cdd7b-8cc7-4377-9838-ee1a2290e6e8",
   "metadata": {},
   "source": [
    "5. Write a Python Program to Make a Simple Calculator with 4 basic mathematical operations?"
   ]
  },
  {
   "cell_type": "code",
   "execution_count": 5,
   "id": "d04a71b8-a4a9-4f7b-9ee5-5dce027a3a54",
   "metadata": {},
   "outputs": [
    {
     "name": "stdin",
     "output_type": "stream",
     "text": [
      "Enter Numbers: 56\n",
      "Enter Numbers: 790\n",
      "Choose Operation to be performed: \n",
      "1. Addition \n",
      "2. Subtraction \n",
      "3. Multiplication \n",
      "4. Division\n",
      " 3\n"
     ]
    },
    {
     "name": "stdout",
     "output_type": "stream",
     "text": [
      "44240\n"
     ]
    }
   ],
   "source": [
    "num1,num2 = [int(input('Enter Numbers:')) for i in range(2)]\n",
    "op = int(input('Choose Operation to be performed: \\n1. Addition \\n2. Subtraction \\n3. Multiplication \\n4. Division\\n'))\n",
    "\n",
    "if op==1:\n",
    "    print(num1+num2)\n",
    "elif op==2:\n",
    "    print(num1-num2)\n",
    "elif op==3:\n",
    "    print(num1*num2)\n",
    "elif op==4:\n",
    "    print(num1+num2)\n",
    "else:\n",
    "    print('Operation Unavailable!')"
   ]
  },
  {
   "cell_type": "code",
   "execution_count": null,
   "id": "db50df1b-3e39-4e06-a3ba-0c0ef0d2404c",
   "metadata": {},
   "outputs": [],
   "source": []
  }
 ],
 "metadata": {
  "kernelspec": {
   "display_name": "Python 3 (ipykernel)",
   "language": "python",
   "name": "python3"
  },
  "language_info": {
   "codemirror_mode": {
    "name": "ipython",
    "version": 3
   },
   "file_extension": ".py",
   "mimetype": "text/x-python",
   "name": "python",
   "nbconvert_exporter": "python",
   "pygments_lexer": "ipython3",
   "version": "3.9.12"
  }
 },
 "nbformat": 4,
 "nbformat_minor": 5
}
