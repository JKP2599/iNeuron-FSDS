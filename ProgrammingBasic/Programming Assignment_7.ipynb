{
 "cells": [
  {
   "cell_type": "markdown",
   "id": "095f7643-aebb-4a98-937e-5a4fef66e7f5",
   "metadata": {},
   "source": [
    "1. Write a Python Program to find sum of array?"
   ]
  },
  {
   "cell_type": "code",
   "execution_count": 1,
   "id": "9f88858b-2ac0-4ff9-9bdd-7b1995ffb510",
   "metadata": {},
   "outputs": [
    {
     "name": "stdin",
     "output_type": "stream",
     "text": [
      "Enter space seperated values:  11 22 33 44 55 66\n"
     ]
    },
    {
     "name": "stdout",
     "output_type": "stream",
     "text": [
      "Sum of the given array is 231\n"
     ]
    }
   ],
   "source": [
    "arr = list(map(int, input(\"Enter space seperated values: \").rstrip().split(' ')))\n",
    "\n",
    "arsum = 0\n",
    "for i in arr:\n",
    "    arsum += i\n",
    "print('Sum of the given array is', arsum)"
   ]
  },
  {
   "cell_type": "markdown",
   "id": "3caf5b40-0fa9-4d6b-960b-bcef8002ccdc",
   "metadata": {},
   "source": [
    "2. Write a Python Program to find largest element in an array?"
   ]
  },
  {
   "cell_type": "code",
   "execution_count": 2,
   "id": "18ae4211-f8d7-4934-8bb4-53c8f73e208e",
   "metadata": {},
   "outputs": [
    {
     "name": "stdin",
     "output_type": "stream",
     "text": [
      "Enter space seperated values:  11 22 33 44 55 234 21 42\n"
     ]
    },
    {
     "name": "stdout",
     "output_type": "stream",
     "text": [
      "Maximum element entered is: 234\n"
     ]
    }
   ],
   "source": [
    "arr = list(map(int, input(\"Enter space seperated values: \").rstrip().split(' ')))\n",
    "print('Maximum element entered is:',max(arr))"
   ]
  },
  {
   "cell_type": "markdown",
   "id": "098e57d5-8916-44e7-a4fa-83a37767cbba",
   "metadata": {},
   "source": [
    "3. Write a Python Program for array rotation?"
   ]
  },
  {
   "cell_type": "code",
   "execution_count": 3,
   "id": "509d5a3b-be16-4b2a-9ce7-9a665a9dece8",
   "metadata": {},
   "outputs": [
    {
     "name": "stdin",
     "output_type": "stream",
     "text": [
      "Enter space seperated values:  11 22 33 44 55 66 77\n",
      "Enter the numberof times the array needs to be rotated: 4\n"
     ]
    },
    {
     "data": {
      "text/plain": [
       "[44, 55, 66, 77, 11, 22, 33]"
      ]
     },
     "execution_count": 3,
     "metadata": {},
     "output_type": "execute_result"
    }
   ],
   "source": [
    "arr = list(map(int, input(\"Enter space seperated values: \").rstrip().split(' ')))\n",
    "n = int(input('Enter the numberof times the array needs to be rotated:'))\n",
    "\n",
    "for i in range(n):\n",
    "    arr.insert(0,arr[-1])\n",
    "    arr.pop()\n",
    "arr"
   ]
  },
  {
   "cell_type": "markdown",
   "id": "81903081-b38d-40e5-a77c-ca1e3764ccf0",
   "metadata": {},
   "source": [
    "4. Write a Python Program to Split the array and add the first part to the end?"
   ]
  },
  {
   "cell_type": "code",
   "execution_count": 4,
   "id": "ffec62bd-b1e9-4ff5-bb5c-13e8afbd1250",
   "metadata": {},
   "outputs": [
    {
     "name": "stdin",
     "output_type": "stream",
     "text": [
      "Enter space seperated values:  11 22 33 44 55 66 77 88\n",
      "Enter desired split position 3\n"
     ]
    },
    {
     "data": {
      "text/plain": [
       "[44, 55, 66, 77, 88, 11, 22, 33]"
      ]
     },
     "execution_count": 4,
     "metadata": {},
     "output_type": "execute_result"
    }
   ],
   "source": [
    "def splitArray(arr,n,pos):\n",
    "    \n",
    "    newarr = arr[pos:]\n",
    "    for i in range(pos):\n",
    "        newarr.append(arr[i])\n",
    "    return newarr\n",
    "        \n",
    "\n",
    "arr = list(map(int, input(\"Enter space seperated values: \").rstrip().split(' ')))\n",
    "n = len(arr)\n",
    "pos = int(input('Enter desired split position'))\n",
    "splitArray(arr,n,pos)\n"
   ]
  },
  {
   "cell_type": "markdown",
   "id": "dbfd8923-f5f6-4bec-b088-f6a70072ca63",
   "metadata": {},
   "source": [
    "5. Write a Python Program to check if given array is Monotonic?"
   ]
  },
  {
   "cell_type": "code",
   "execution_count": 5,
   "id": "78432b2d-434f-4a64-8704-ee6aa18a53d6",
   "metadata": {},
   "outputs": [
    {
     "name": "stdin",
     "output_type": "stream",
     "text": [
      "Enter space seperated values:  1 3 55 677 789\n"
     ]
    },
    {
     "name": "stdout",
     "output_type": "stream",
     "text": [
      "Array is Monotonic\n"
     ]
    }
   ],
   "source": [
    "def checkMonotone(arr):\n",
    "    \n",
    "    return(all(arr[i]<=arr[i+1] for i in range(len(arr)-1)) or all(arr[i]>=arr[i+1] for i in range(len(arr)-1)))\n",
    "        \n",
    "        \n",
    "arr = list(map(int, input(\"Enter space seperated values: \").rstrip().split(' ')))\n",
    "\n",
    "if checkMonotone(arr):\n",
    "    print('Array is Monotonic')\n",
    "else:\n",
    "    print('Array is not Monotonic')"
   ]
  },
  {
   "cell_type": "code",
   "execution_count": null,
   "id": "32a6622e-74ee-45dc-ac62-6e38d7d0b2da",
   "metadata": {},
   "outputs": [],
   "source": []
  }
 ],
 "metadata": {
  "kernelspec": {
   "display_name": "Python 3 (ipykernel)",
   "language": "python",
   "name": "python3"
  },
  "language_info": {
   "codemirror_mode": {
    "name": "ipython",
    "version": 3
   },
   "file_extension": ".py",
   "mimetype": "text/x-python",
   "name": "python",
   "nbconvert_exporter": "python",
   "pygments_lexer": "ipython3",
   "version": "3.9.12"
  }
 },
 "nbformat": 4,
 "nbformat_minor": 5
}
