{
 "cells": [
  {
   "cell_type": "markdown",
   "id": "1c3bd486-d52a-49e4-8730-153ad7964345",
   "metadata": {},
   "source": [
    "1. Write a Python program to convert kilometers to miles?"
   ]
  },
  {
   "cell_type": "code",
   "execution_count": 1,
   "id": "33e29a84-80a6-4699-b0f5-bde71725cd9e",
   "metadata": {},
   "outputs": [
    {
     "name": "stdin",
     "output_type": "stream",
     "text": [
      " 30\n"
     ]
    },
    {
     "name": "stdout",
     "output_type": "stream",
     "text": [
      "30 km = 48.0 miles\n"
     ]
    }
   ],
   "source": [
    "km = int(input())\n",
    "miles = 1.6*km \n",
    "print(km,'km =',miles,'miles')"
   ]
  },
  {
   "cell_type": "markdown",
   "id": "122eecae-3b37-49f5-a5f6-1c64aea86d49",
   "metadata": {},
   "source": [
    "2. Write a Python program to convert Celsius to Fahrenheit?"
   ]
  },
  {
   "cell_type": "code",
   "execution_count": 2,
   "id": "09ba1409-5b99-4b80-a2ff-36854e5d2cd2",
   "metadata": {},
   "outputs": [
    {
     "name": "stdin",
     "output_type": "stream",
     "text": [
      " 300\n"
     ]
    },
    {
     "name": "stdout",
     "output_type": "stream",
     "text": [
      "300 C = 572.0 F\n"
     ]
    }
   ],
   "source": [
    "C = int(input())\n",
    "F = (C*9/5)+32\n",
    "print(C,'C =',F,'F')"
   ]
  },
  {
   "cell_type": "markdown",
   "id": "01265f7e-9c42-46bf-acdd-58bd401987ca",
   "metadata": {},
   "source": [
    "3. Write a Python program to display calendar?"
   ]
  },
  {
   "cell_type": "code",
   "execution_count": 3,
   "id": "1059ea90-22cc-4fe1-a5e7-6b0f9fa2d17a",
   "metadata": {},
   "outputs": [
    {
     "name": "stdin",
     "output_type": "stream",
     "text": [
      " 2004\n",
      " 1\n"
     ]
    },
    {
     "name": "stdout",
     "output_type": "stream",
     "text": [
      "    January 2004\n",
      "Mo Tu We Th Fr Sa Su\n",
      "          1  2  3  4\n",
      " 5  6  7  8  9 10 11\n",
      "12 13 14 15 16 17 18\n",
      "19 20 21 22 23 24 25\n",
      "26 27 28 29 30 31\n",
      "\n"
     ]
    }
   ],
   "source": [
    "import calendar\n",
    "y,m = int(input()),int(input())\n",
    "print(calendar.month(y,m))"
   ]
  },
  {
   "cell_type": "markdown",
   "id": "bfac9786-0322-4dbe-bb5d-e457e203e3a3",
   "metadata": {},
   "source": [
    "4. Write a Python program to solve quadratic equation?"
   ]
  },
  {
   "cell_type": "code",
   "execution_count": 4,
   "id": "2dbc01c3-b996-40a4-a63d-fd4eab15864f",
   "metadata": {},
   "outputs": [
    {
     "name": "stdin",
     "output_type": "stream",
     "text": [
      " 3\n",
      " 4\n",
      " 6\n"
     ]
    },
    {
     "name": "stdout",
     "output_type": "stream",
     "text": [
      "Complex Roots\n",
      "-0.6666666666666666 +i 7.483314773547883\n",
      "-0.6666666666666666 -i 7.483314773547883\n"
     ]
    }
   ],
   "source": [
    "import math\n",
    "\n",
    "def roots(a,b,c):\n",
    "    \n",
    "    disc = b**2 - 4*a*c\n",
    "    sqrt_disc = math.sqrt(abs(disc))\n",
    "    \n",
    "    if disc>0:\n",
    "        print('Real Distinct roots')\n",
    "        print((-b+sqrt_disc)/2*a)\n",
    "        print((-b+sqrt_disc)/2*a)\n",
    "    elif disc==0:\n",
    "        print('Real Equal roots')\n",
    "        print(-b/2*a)\n",
    "    else:\n",
    "        print('Complex Roots')\n",
    "        print(-b/(2*a),\"+i\", sqrt_disc) \n",
    "        print(-b/(2*a),\"-i\", sqrt_disc)\n",
    "\n",
    "a,b,c = [int(input()) for i in range(3)]\n",
    "\n",
    "if a==0:\n",
    "    print('Not a quadratic equation')\n",
    "else:\n",
    "    roots(a,b,c)\n",
    "  "
   ]
  },
  {
   "cell_type": "code",
   "execution_count": 5,
   "id": "acea94da-bd5a-443a-b0c4-032da4c5be6b",
   "metadata": {},
   "outputs": [
    {
     "name": "stdin",
     "output_type": "stream",
     "text": [
      " 5\n",
      " 6\n"
     ]
    },
    {
     "name": "stdout",
     "output_type": "stream",
     "text": [
      "5 6\n",
      "6 5\n"
     ]
    }
   ],
   "source": [
    "a,b = [int(input()) for i in range(2)]\n",
    "print(a,b)\n",
    "a,b=b,a\n",
    "print(a,b)"
   ]
  },
  {
   "cell_type": "code",
   "execution_count": null,
   "id": "fa6e3ba4-2461-46d2-abd1-db1582b559f3",
   "metadata": {},
   "outputs": [],
   "source": []
  }
 ],
 "metadata": {
  "kernelspec": {
   "display_name": "Python 3 (ipykernel)",
   "language": "python",
   "name": "python3"
  },
  "language_info": {
   "codemirror_mode": {
    "name": "ipython",
    "version": 3
   },
   "file_extension": ".py",
   "mimetype": "text/x-python",
   "name": "python",
   "nbconvert_exporter": "python",
   "pygments_lexer": "ipython3",
   "version": "3.9.12"
  }
 },
 "nbformat": 4,
 "nbformat_minor": 5
}
