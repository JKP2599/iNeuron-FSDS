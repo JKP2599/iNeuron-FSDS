{
 "cells": [
  {
   "cell_type": "markdown",
   "id": "79ac344c-1018-4a58-98cd-99e5b0af05fa",
   "metadata": {},
   "source": [
    "1. Write a Python program to check if the given number is a Disarium Number?"
   ]
  },
  {
   "cell_type": "code",
   "execution_count": 1,
   "id": "da3e1ef9-f4d9-4e59-91a8-b9cdc5fbf4a8",
   "metadata": {},
   "outputs": [],
   "source": [
    "def check_disarium(num):\n",
    "    \n",
    "    n = num\n",
    "    l = len(str(n))\n",
    "    add = 0    \n",
    "    while(l>0):\n",
    "        rem = n%10\n",
    "        add = add + (rem**l)\n",
    "        n//=10\n",
    "        l-=1\n",
    "\n",
    "    if add == num:\n",
    "        return True\n",
    "    else:\n",
    "        return False"
   ]
  },
  {
   "cell_type": "code",
   "execution_count": 2,
   "id": "da513250-4d62-4ac9-aa0f-604dab3efa78",
   "metadata": {},
   "outputs": [
    {
     "data": {
      "text/plain": [
       "True"
      ]
     },
     "execution_count": 2,
     "metadata": {},
     "output_type": "execute_result"
    }
   ],
   "source": [
    "check_disarium(175)"
   ]
  },
  {
   "cell_type": "markdown",
   "id": "415574f7-4558-4f47-8382-7e550164cdf2",
   "metadata": {},
   "source": [
    "2. Write a Python program to print all disarium numbers between 1 to 100?"
   ]
  },
  {
   "cell_type": "code",
   "execution_count": 3,
   "id": "569a0872-ed36-40f2-8e04-b326da6ab821",
   "metadata": {},
   "outputs": [
    {
     "name": "stdout",
     "output_type": "stream",
     "text": [
      "1\n",
      "2\n",
      "3\n",
      "4\n",
      "5\n",
      "6\n",
      "7\n",
      "8\n",
      "9\n",
      "89\n"
     ]
    }
   ],
   "source": [
    "for num in range(1,101):\n",
    "    if check_disarium(num):\n",
    "        print(num)"
   ]
  },
  {
   "cell_type": "markdown",
   "id": "5cafc135-5147-42a3-8021-9b324c6be69c",
   "metadata": {},
   "source": [
    "Write a Python program to check if the given number is Happy Number?"
   ]
  },
  {
   "cell_type": "code",
   "execution_count": 4,
   "id": "5f549c09-d1c4-4104-8f7c-b56977a589ea",
   "metadata": {},
   "outputs": [],
   "source": [
    "def happy_number(num):\n",
    "    add = 0\n",
    "    add_sq = []\n",
    "    n=num\n",
    "    while(n!=1):\n",
    "        rem=n%10\n",
    "        add = add+rem**2\n",
    "        n//=10\n",
    "        if add in add_sq:\n",
    "            return False\n",
    "        add_sq.append(add)\n",
    "    return True"
   ]
  },
  {
   "cell_type": "code",
   "execution_count": 5,
   "id": "6b25487c-1c8a-4f53-961f-b380db6a9181",
   "metadata": {},
   "outputs": [
    {
     "name": "stdout",
     "output_type": "stream",
     "text": [
      "False\n",
      "True\n"
     ]
    }
   ],
   "source": [
    "print(happy_number(22),happy_number(19),sep='\\n')"
   ]
  },
  {
   "cell_type": "markdown",
   "id": "4abaa79b-524a-45af-9f1c-4cf2f445a962",
   "metadata": {},
   "source": [
    "4. Write a Python program to print all happy numbers between 1 and 100?"
   ]
  },
  {
   "cell_type": "code",
   "execution_count": 6,
   "id": "7984e9e7-feeb-4508-a31f-b1ef3fbb94d2",
   "metadata": {},
   "outputs": [
    {
     "name": "stdout",
     "output_type": "stream",
     "text": [
      "1\n",
      "10\n",
      "11\n",
      "12\n",
      "13\n",
      "14\n",
      "15\n",
      "16\n",
      "17\n",
      "18\n",
      "19\n"
     ]
    }
   ],
   "source": [
    "for num in range(1,101):\n",
    "    if happy_number(num):\n",
    "        print(num)"
   ]
  },
  {
   "cell_type": "markdown",
   "id": "2cc05007-dbfc-4702-9002-d5e1b0988c0a",
   "metadata": {},
   "source": [
    "5. Write a Python program to determine whether the given number is a Harshad Number?"
   ]
  },
  {
   "cell_type": "code",
   "execution_count": 7,
   "id": "5a94ace0-4904-4692-bc74-d965fb367fd1",
   "metadata": {},
   "outputs": [],
   "source": [
    "def check_harshad(num):\n",
    "    \n",
    "    n = num\n",
    "    l = len(str(n))\n",
    "    add = 0    \n",
    "    while(l>0):\n",
    "        rem = n%10\n",
    "        add = add + rem\n",
    "        n//=10\n",
    "        l-=1\n",
    "\n",
    "    if num%add==0:\n",
    "        return True\n",
    "    else:\n",
    "        return False"
   ]
  },
  {
   "cell_type": "code",
   "execution_count": 8,
   "id": "19a9d023-e16a-4957-a6cc-5fa3a70fd80f",
   "metadata": {},
   "outputs": [
    {
     "name": "stdout",
     "output_type": "stream",
     "text": [
      "True\n",
      "False\n"
     ]
    }
   ],
   "source": [
    "print(check_harshad(144),check_harshad(115),sep='\\n')"
   ]
  },
  {
   "cell_type": "markdown",
   "id": "3d9d5b32-7d26-4d62-877a-4b3bd8bc6400",
   "metadata": {},
   "source": [
    "6. Write a Python program to print all pronic numbers between 1 and 100?"
   ]
  },
  {
   "cell_type": "code",
   "execution_count": 9,
   "id": "8681b63b-41c5-428b-a94f-db91ce1a5ecd",
   "metadata": {},
   "outputs": [],
   "source": [
    "def check_pronic(num):\n",
    "    flag=False\n",
    "    for i in range(1,num+1):\n",
    "        if i*(i+1)==num:\n",
    "            flag = True\n",
    "            break\n",
    "    return flag"
   ]
  },
  {
   "cell_type": "code",
   "execution_count": 10,
   "id": "2b84f0cd-5e15-488c-bf46-f5f918f5195e",
   "metadata": {},
   "outputs": [
    {
     "name": "stdout",
     "output_type": "stream",
     "text": [
      "2\n",
      "6\n",
      "12\n",
      "20\n",
      "30\n",
      "42\n",
      "56\n",
      "72\n",
      "90\n"
     ]
    }
   ],
   "source": [
    "for num in range(1,101):\n",
    "    if check_pronic(num):\n",
    "        print(num)"
   ]
  },
  {
   "cell_type": "code",
   "execution_count": null,
   "id": "9344d8a8-0715-46c1-8281-d5c5560f574d",
   "metadata": {},
   "outputs": [],
   "source": []
  }
 ],
 "metadata": {
  "kernelspec": {
   "display_name": "Python 3 (ipykernel)",
   "language": "python",
   "name": "python3"
  },
  "language_info": {
   "codemirror_mode": {
    "name": "ipython",
    "version": 3
   },
   "file_extension": ".py",
   "mimetype": "text/x-python",
   "name": "python",
   "nbconvert_exporter": "python",
   "pygments_lexer": "ipython3",
   "version": "3.9.12"
  }
 },
 "nbformat": 4,
 "nbformat_minor": 5
}
