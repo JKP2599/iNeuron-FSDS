{
 "cells": [
  {
   "cell_type": "markdown",
   "id": "9a66f521-f7d9-425a-8c19-700258eae2aa",
   "metadata": {},
   "source": [
    "1. Write a Python Program to Display Fibonacci Sequence Using Recursion?"
   ]
  },
  {
   "cell_type": "code",
   "execution_count": 1,
   "id": "b6c7fdd8-9364-4e2d-aa2a-35ec67d28a7a",
   "metadata": {},
   "outputs": [
    {
     "name": "stdin",
     "output_type": "stream",
     "text": [
      "Please enter the number of terms desired:  40\n"
     ]
    },
    {
     "name": "stdout",
     "output_type": "stream",
     "text": [
      "1. 0\n",
      "2. 1\n",
      "3. 1\n",
      "4. 2\n",
      "5. 3\n",
      "6. 5\n",
      "7. 8\n",
      "8. 13\n",
      "9. 21\n",
      "10. 34\n",
      "11. 55\n",
      "12. 89\n",
      "13. 144\n",
      "14. 233\n",
      "15. 377\n",
      "16. 610\n",
      "17. 987\n",
      "18. 1597\n",
      "19. 2584\n",
      "20. 4181\n",
      "21. 6765\n",
      "22. 10946\n",
      "23. 17711\n",
      "24. 28657\n",
      "25. 46368\n",
      "26. 75025\n",
      "27. 121393\n",
      "28. 196418\n",
      "29. 317811\n",
      "30. 514229\n",
      "31. 832040\n",
      "32. 1346269\n",
      "33. 2178309\n",
      "34. 3524578\n",
      "35. 5702887\n",
      "36. 9227465\n",
      "37. 14930352\n",
      "38. 24157817\n",
      "39. 39088169\n",
      "40. 63245986\n"
     ]
    }
   ],
   "source": [
    "def fibo_recur(n):\n",
    "    if n<=1:\n",
    "        return n\n",
    "    else:\n",
    "        return(fibo_recur(n-1)+fibo_recur(n-2))\n",
    "\n",
    "n = int(input('Please enter the number of terms desired: '))\n",
    "count = 1\n",
    "if n <= 0:\n",
    "    print('Please enter a positive integer')\n",
    "else:\n",
    "    for i in range(n):\n",
    "        print('{}. {}'.format(count,fibo_recur(i)))\n",
    "        count+=1"
   ]
  },
  {
   "cell_type": "markdown",
   "id": "e7a1765b-10b4-42c1-9a15-ff9244e1856e",
   "metadata": {},
   "source": [
    "2. Write a Python Program to Find Factorial of Number Using Recursion?"
   ]
  },
  {
   "cell_type": "code",
   "execution_count": 2,
   "id": "590f6ae1-7ab1-4064-adee-f5ba27a6d5ea",
   "metadata": {},
   "outputs": [
    {
     "name": "stdin",
     "output_type": "stream",
     "text": [
      "Please enter the number of terms desired:  999\n"
     ]
    },
    {
     "name": "stdout",
     "output_type": "stream",
     "text": [
      "1. 402387260077093773543702433923003985719374864210714632543799910429938512398629020592044208486969404800479988610197196058631666872994808558901323829669944590997424504087073759918823627727188732519779505950995276120874975462497043601418278094646496291056393887437886487337119181045825783647849977012476632889835955735432513185323958463075557409114262417474349347553428646576611667797396668820291207379143853719588249808126867838374559731746136085379534524221586593201928090878297308431392844403281231558611036976801357304216168747609675871348312025478589320767169132448426236131412508780208000261683151027341827977704784635868170164365024153691398281264810213092761244896359928705114964975419909342221566832572080821333186116811553615836546984046708975602900950537616475847728421889679646244945160765353408198901385442487984959953319101723355556602139450399736280750137837615307127761926849034352625200015888535147331611702103968175921510907788019393178114194545257223865541461062892187960223838971476088506276862967146674697562911234082439208160153780889893964518263243671616762179168909779911903754031274622289988005195444414282012187361745992642956581746628302955570299024324153181617210465832036786906117260158783520751516284225540265170483304226143974286933061690897968482590125458327168226458066526769958652682272807075781391858178889652208164348344825993266043367660176999612831860788386150279465955131156552036093988180612138558600301435694527224206344631797460594682573103790084024432438465657245014402821885252470935190620929023136493273497565513958720559654228749774011413346962715422845862377387538230483865688976461927383814900140767310446640259899490222221765904339901886018566526485061799702356193897017860040811889729918311021171229845901641921068884387121855646124960798722908519296819372388642614839657382291123125024186649353143970137428531926649875337218940694281434118520158014123344828015051399694290153483077644569099073152433278288269864602789864321139083506217095002597389863554277196742822248757586765752344220207573630569498825087968928162753848863396909959826280956121450994871701244516461260379029309120889086942028510640182154399457156805941872748998094254742173582401063677404595741785160829230135358081840096996372524230560855903700624271243416909004153690105933983835777939410970027753472000000000000000000000000000000000000000000000000000000000000000000000000000000000000000000000000000000000000000000000000000000000000000000000000000000000000000000000000000000000000000000000000000000000000000000000000000000000000000000000000000000\n"
     ]
    }
   ],
   "source": [
    "def fact_recur(n):\n",
    "    if n==1:\n",
    "        return n\n",
    "    else:\n",
    "        return(fact_recur(n-1)*n)\n",
    "\n",
    "n = int(input('Please enter the number of terms desired: '))\n",
    "count = 1\n",
    "if n < 0:\n",
    "    print('Please enter a positive integer')\n",
    "elif n == 0:\n",
    "    print(1)\n",
    "else:\n",
    "    print('{}. {}'.format(count,fact_recur(n)))\n",
    "    count+=1"
   ]
  },
  {
   "cell_type": "markdown",
   "id": "76715d1d-2ad5-4eef-a07a-26e031af19b1",
   "metadata": {},
   "source": [
    "3. Write a Python Program to calculate your Body Mass Index?"
   ]
  },
  {
   "cell_type": "code",
   "execution_count": 3,
   "id": "5b08b9fd-efd0-4ee6-bf43-d5b3cfd123e1",
   "metadata": {},
   "outputs": [
    {
     "name": "stdin",
     "output_type": "stream",
     "text": [
      "Enter Height in m:  1.54\n",
      "Enter Weight in kg:  78\n"
     ]
    },
    {
     "name": "stdout",
     "output_type": "stream",
     "text": [
      "Your BMI is 32.88919 kg/m2\n"
     ]
    }
   ],
   "source": [
    "height = float(input('Enter Height in m: '))\n",
    "weight = int(input('Enter Weight in kg: '))\n",
    "\n",
    "BMI = round(weight/height**2,5)\n",
    "print('Your BMI is {} kg/m2'.format(BMI))"
   ]
  },
  {
   "cell_type": "markdown",
   "id": "3674f5f6-0a65-461b-8e07-076db8f2e41a",
   "metadata": {},
   "source": [
    "4. Write a Python Program to calculate the natural logarithm of any number?"
   ]
  },
  {
   "cell_type": "code",
   "execution_count": 4,
   "id": "980cdc57-91e1-4f75-8873-b46286337b20",
   "metadata": {},
   "outputs": [
    {
     "name": "stdin",
     "output_type": "stream",
     "text": [
      "Enter a number:  55\n"
     ]
    },
    {
     "data": {
      "text/plain": [
       "4.007333185232471"
      ]
     },
     "execution_count": 4,
     "metadata": {},
     "output_type": "execute_result"
    }
   ],
   "source": [
    "import math\n",
    "n = int(input('Enter a number: '))\n",
    "math.log(n)"
   ]
  },
  {
   "cell_type": "markdown",
   "id": "4ff963f4-1c7d-491a-acfb-0c3d8d22b829",
   "metadata": {},
   "source": [
    "5. Write a Python Program for cube sum of first n natural numbers?"
   ]
  },
  {
   "cell_type": "code",
   "execution_count": 5,
   "id": "78aabd9d-971b-40b1-84ce-c03a6142e100",
   "metadata": {},
   "outputs": [
    {
     "name": "stdin",
     "output_type": "stream",
     "text": [
      "Enter a natual number:  1000\n"
     ]
    },
    {
     "name": "stdout",
     "output_type": "stream",
     "text": [
      "The Cube Sum of first 1000 natual numbers is 1001000000000\n"
     ]
    }
   ],
   "source": [
    "n = int(input('Enter a natual number: '))\n",
    "cubesum = 0\n",
    "for i in range(n+1):\n",
    "    cubesum += n**3\n",
    "print('The Cube Sum of first {} natual numbers is {}'.format(n, cubesum))"
   ]
  },
  {
   "cell_type": "code",
   "execution_count": null,
   "id": "070ce88e-b257-4290-9374-dee25fe4931f",
   "metadata": {},
   "outputs": [],
   "source": []
  }
 ],
 "metadata": {
  "kernelspec": {
   "display_name": "Python 3 (ipykernel)",
   "language": "python",
   "name": "python3"
  },
  "language_info": {
   "codemirror_mode": {
    "name": "ipython",
    "version": 3
   },
   "file_extension": ".py",
   "mimetype": "text/x-python",
   "name": "python",
   "nbconvert_exporter": "python",
   "pygments_lexer": "ipython3",
   "version": "3.9.12"
  }
 },
 "nbformat": 4,
 "nbformat_minor": 5
}
