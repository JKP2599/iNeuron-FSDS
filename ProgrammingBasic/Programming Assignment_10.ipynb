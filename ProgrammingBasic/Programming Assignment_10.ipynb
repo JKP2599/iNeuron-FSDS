{
 "cells": [
  {
   "cell_type": "markdown",
   "id": "13dd2d38-482a-4a1f-a802-089b2a221880",
   "metadata": {},
   "source": [
    "1. Write a Python program to find sum of elements in list?"
   ]
  },
  {
   "cell_type": "code",
   "execution_count": 1,
   "id": "f711bdb1-e0bd-42d2-a70c-37bb7c2944cf",
   "metadata": {},
   "outputs": [
    {
     "name": "stdout",
     "output_type": "stream",
     "text": [
      "2537\n"
     ]
    }
   ],
   "source": [
    "l = [1,33,44,567,1134,2,756]\n",
    "Sum=0\n",
    "for i in l:\n",
    "    Sum+=i\n",
    "print(Sum)"
   ]
  },
  {
   "cell_type": "markdown",
   "id": "d50438f1-ddf4-49ea-87a6-69b74ef26b2c",
   "metadata": {},
   "source": [
    "2. Write a Python program to Multiply all numbers in the list?"
   ]
  },
  {
   "cell_type": "code",
   "execution_count": 2,
   "id": "65f0da9b-5340-4a40-bf67-02bdf5f13aa3",
   "metadata": {},
   "outputs": [
    {
     "name": "stdout",
     "output_type": "stream",
     "text": [
      "1411609332672\n"
     ]
    }
   ],
   "source": [
    "l = [1,33,44,567,1134,2,756]\n",
    "mul=1\n",
    "for i in l:\n",
    "    mul*=i\n",
    "print(mul)"
   ]
  },
  {
   "cell_type": "markdown",
   "id": "2b7acd9b-1008-466a-b1c9-54c0a458aeb2",
   "metadata": {},
   "source": [
    "3. Write a Python program to find smallest number in a list?"
   ]
  },
  {
   "cell_type": "code",
   "execution_count": 3,
   "id": "561f2893-0fe3-4482-823e-008ae27ae474",
   "metadata": {},
   "outputs": [
    {
     "data": {
      "text/plain": [
       "1"
      ]
     },
     "execution_count": 3,
     "metadata": {},
     "output_type": "execute_result"
    }
   ],
   "source": [
    "min(l)"
   ]
  },
  {
   "cell_type": "markdown",
   "id": "579f5f59-7ead-48d1-919a-314d71798224",
   "metadata": {},
   "source": [
    "4. Write a Python program to find largest number in a list?"
   ]
  },
  {
   "cell_type": "code",
   "execution_count": 4,
   "id": "7ed0016b-66c2-4253-a5fe-d9cf406843ee",
   "metadata": {},
   "outputs": [
    {
     "data": {
      "text/plain": [
       "1134"
      ]
     },
     "execution_count": 4,
     "metadata": {},
     "output_type": "execute_result"
    }
   ],
   "source": [
    "max(l)"
   ]
  },
  {
   "cell_type": "markdown",
   "id": "729a98b0-6378-4967-8b4a-0bd075ee3086",
   "metadata": {},
   "source": [
    "5. Write a Python program to find second largest number in a list?"
   ]
  },
  {
   "cell_type": "code",
   "execution_count": 5,
   "id": "ce219b58-20ad-415f-a3f1-bb9838f80b8b",
   "metadata": {},
   "outputs": [
    {
     "data": {
      "text/plain": [
       "756"
      ]
     },
     "execution_count": 5,
     "metadata": {},
     "output_type": "execute_result"
    }
   ],
   "source": [
    "sorted(l)[-2]"
   ]
  },
  {
   "cell_type": "markdown",
   "id": "f178edea-24df-41c3-ab30-46a6483f1096",
   "metadata": {},
   "source": [
    "6. Write a Python program to find N largest elements from a list?"
   ]
  },
  {
   "cell_type": "code",
   "execution_count": 6,
   "id": "5a0e1023-0d58-4e27-9f49-9f63320e9c47",
   "metadata": {},
   "outputs": [
    {
     "name": "stdin",
     "output_type": "stream",
     "text": [
      " 3\n"
     ]
    },
    {
     "data": {
      "text/plain": [
       "[1134, 756, 567]"
      ]
     },
     "execution_count": 6,
     "metadata": {},
     "output_type": "execute_result"
    }
   ],
   "source": [
    "N = int(input())\n",
    "if N<len(l):\n",
    "    ls = sorted(l,reverse=True)[:N]\n",
    "ls"
   ]
  },
  {
   "cell_type": "markdown",
   "id": "a7553142-2d23-4a9a-af4c-a56b8bc404b4",
   "metadata": {},
   "source": [
    "7. Write a Python program to print even numbers in a list?"
   ]
  },
  {
   "cell_type": "code",
   "execution_count": 7,
   "id": "f45c29ea-e114-48fd-bc68-fab49c9fac8b",
   "metadata": {},
   "outputs": [
    {
     "name": "stdout",
     "output_type": "stream",
     "text": [
      "44\n",
      "1134\n",
      "2\n",
      "756\n"
     ]
    }
   ],
   "source": [
    "for i in l:\n",
    "    if i%2==0:\n",
    "        print(i)"
   ]
  },
  {
   "cell_type": "markdown",
   "id": "afc98d11-ab3e-4a44-9e70-30b26ce64fc3",
   "metadata": {},
   "source": [
    "8. Write a Python program to print odd numbers in a List?"
   ]
  },
  {
   "cell_type": "code",
   "execution_count": 8,
   "id": "6b379036-2d52-4640-85ca-53d8d165de53",
   "metadata": {},
   "outputs": [
    {
     "name": "stdout",
     "output_type": "stream",
     "text": [
      "1\n",
      "33\n",
      "567\n"
     ]
    }
   ],
   "source": [
    "for i in l:\n",
    "    if i%2!=0:\n",
    "        print(i)"
   ]
  },
  {
   "cell_type": "markdown",
   "id": "841d894b-7360-47c4-951b-bc2d1b812f1b",
   "metadata": {},
   "source": [
    "9. Write a Python program to Remove empty List from List?"
   ]
  },
  {
   "cell_type": "code",
   "execution_count": 9,
   "id": "e4be069c-2fa5-4be0-9024-d3260dded174",
   "metadata": {},
   "outputs": [
    {
     "data": {
      "text/plain": [
       "[2, 'dd', 45, 44]"
      ]
     },
     "execution_count": 9,
     "metadata": {},
     "output_type": "execute_result"
    }
   ],
   "source": [
    "L = [2,'dd',45,[],[],44]\n",
    "\n",
    "rem_empty = [i for i in L if i!=[]]\n",
    "rem_empty"
   ]
  },
  {
   "cell_type": "markdown",
   "id": "7c935241-db07-463f-b7b1-4c567c94acb0",
   "metadata": {},
   "source": [
    "11. Write a Python program to Count occurrences of an element in a list?"
   ]
  },
  {
   "cell_type": "code",
   "execution_count": 10,
   "id": "37225d39-e81c-445e-9cd5-fcc836bda711",
   "metadata": {},
   "outputs": [
    {
     "name": "stdin",
     "output_type": "stream",
     "text": [
      " 1\n"
     ]
    },
    {
     "name": "stdout",
     "output_type": "stream",
     "text": [
      "1 occurs 3 times in the list\n"
     ]
    }
   ],
   "source": [
    "l = [1,33,44,1,33,56,678,1]\n",
    "count = 0\n",
    "element = int(input())\n",
    "for i in l:\n",
    "    if i == element: count+=1\n",
    "    \n",
    "print(f\"{element} occurs {count} times in the list\")\n",
    "    "
   ]
  },
  {
   "cell_type": "code",
   "execution_count": null,
   "id": "d1f6f996-af44-4c00-a1c5-912a19b37ad2",
   "metadata": {},
   "outputs": [],
   "source": []
  }
 ],
 "metadata": {
  "kernelspec": {
   "display_name": "Python 3 (ipykernel)",
   "language": "python",
   "name": "python3"
  },
  "language_info": {
   "codemirror_mode": {
    "name": "ipython",
    "version": 3
   },
   "file_extension": ".py",
   "mimetype": "text/x-python",
   "name": "python",
   "nbconvert_exporter": "python",
   "pygments_lexer": "ipython3",
   "version": "3.9.12"
  }
 },
 "nbformat": 4,
 "nbformat_minor": 5
}
