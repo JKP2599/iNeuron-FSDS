{
 "cells": [
  {
   "cell_type": "markdown",
   "id": "a6f69a35-0ab3-4ba4-a168-ae1c938b1133",
   "metadata": {},
   "source": [
    "1. Write a Python Program to Add Two Matrices?"
   ]
  },
  {
   "cell_type": "code",
   "execution_count": 1,
   "id": "013fe5aa-ed2a-454f-a9f4-69817668c3d4",
   "metadata": {},
   "outputs": [
    {
     "data": {
      "text/plain": [
       "[[10, 10, 10], [10, 10, 10], [10, 10, 10]]"
      ]
     },
     "execution_count": 1,
     "metadata": {},
     "output_type": "execute_result"
    }
   ],
   "source": [
    "A = [[1,2,3],\n",
    "    [4 ,5,6],\n",
    "    [7 ,8,9]]\n",
    " \n",
    "B = [[9,8,7],\n",
    "    [6,5,4],\n",
    "    [3,2,1]]\n",
    "'''\n",
    "sum = [[0,0,0],\n",
    "      [0,0,0],\n",
    "      [0,0,0]]\n",
    "\n",
    "\n",
    "for i in range(len(A)):\n",
    "    for j in range(len(A[0])):\n",
    "        sum[i][j] = A[i][j] + B[i][j]\n",
    "'''\n",
    "sum = [[A[i][j] + B[i][j] for j in range(len(A[0]))] for i in range(len(A))]\n",
    "sum"
   ]
  },
  {
   "cell_type": "markdown",
   "id": "89db85f9-1bad-42e2-a6fb-98c94cf536b8",
   "metadata": {},
   "source": [
    "2. Write a Python Program to Multiply Two Matrices?"
   ]
  },
  {
   "cell_type": "code",
   "execution_count": 2,
   "id": "47c2be56-5d17-4614-b917-d8d3879b1e25",
   "metadata": {},
   "outputs": [
    {
     "data": {
      "text/plain": [
       "[[9, 16, 21], [24, 25, 24], [21, 16, 9]]"
      ]
     },
     "execution_count": 2,
     "metadata": {},
     "output_type": "execute_result"
    }
   ],
   "source": [
    "mul = [[A[i][j] * B[i][j] for j in range(len(A[0]))] for i in range(len(A))]\n",
    "mul"
   ]
  },
  {
   "cell_type": "markdown",
   "id": "c1bb151b-53d0-4b26-a192-bad14c52a8b7",
   "metadata": {},
   "source": [
    "3. Write a Python Program to Transpose a Matrix?"
   ]
  },
  {
   "cell_type": "code",
   "execution_count": 3,
   "id": "cd660eb8-f84a-45ea-8a77-27a1ed0ec442",
   "metadata": {},
   "outputs": [
    {
     "data": {
      "text/plain": [
       "[[9, 6, 3], [6, 5, 2], [3, 2, 1]]"
      ]
     },
     "execution_count": 3,
     "metadata": {},
     "output_type": "execute_result"
    }
   ],
   "source": [
    "T = [[9,8,7],\n",
    "    [6,5,4],\n",
    "    [3,2,1]]\n",
    "Tr = T\n",
    "\n",
    "for i in range(len(T)):\n",
    "    for j in range(len(T[0])):\n",
    "        Tr[i][j] = T[j][i]\n",
    "Tr"
   ]
  },
  {
   "cell_type": "markdown",
   "id": "b2a60fc4-48c5-47b7-8b80-6611c9376799",
   "metadata": {},
   "source": [
    "4. Write a Python Program to Sort Words in Alphabetic Order?"
   ]
  },
  {
   "cell_type": "code",
   "execution_count": 4,
   "id": "edbab9d3-d4b6-4683-bf55-80055e8428d7",
   "metadata": {},
   "outputs": [
    {
     "data": {
      "text/plain": [
       "'a brown dog fox jumps lazy over quick the'"
      ]
     },
     "execution_count": 4,
     "metadata": {},
     "output_type": "execute_result"
    }
   ],
   "source": [
    "Str = \"the quick brown fox jumps over a lazy dog\"\n",
    "' '.join(sorted(Str.split()))"
   ]
  },
  {
   "cell_type": "markdown",
   "id": "f52fd940-0e83-4286-85fc-40f300a6fb43",
   "metadata": {},
   "source": [
    "5. Write a Python Program to Remove Punctuation From a String?"
   ]
  },
  {
   "cell_type": "code",
   "execution_count": 5,
   "id": "4878f407-b9c2-4b39-9339-6a72bd0d55f5",
   "metadata": {},
   "outputs": [
    {
     "data": {
      "text/plain": [
       "'the quick brown fox jumps over a lazy dog'"
      ]
     },
     "execution_count": 5,
     "metadata": {},
     "output_type": "execute_result"
    }
   ],
   "source": [
    "Strp = \"the. quick! brown, fox; jumps' over a lazy dog\"\n",
    "punctuations = '''!()-[]{};:'\"\\,<>./?@#$%^&*_~'''\n",
    "nopunch = ''\n",
    "\n",
    "for i in Strp:\n",
    "    if i not in punctuations:\n",
    "        nopunch = nopunch + i\n",
    "nopunch\n"
   ]
  },
  {
   "cell_type": "code",
   "execution_count": null,
   "id": "bb1592a5-c0c3-4898-a637-33ce5abcf5c9",
   "metadata": {},
   "outputs": [],
   "source": []
  }
 ],
 "metadata": {
  "kernelspec": {
   "display_name": "Python 3 (ipykernel)",
   "language": "python",
   "name": "python3"
  },
  "language_info": {
   "codemirror_mode": {
    "name": "ipython",
    "version": 3
   },
   "file_extension": ".py",
   "mimetype": "text/x-python",
   "name": "python",
   "nbconvert_exporter": "python",
   "pygments_lexer": "ipython3",
   "version": "3.9.12"
  }
 },
 "nbformat": 4,
 "nbformat_minor": 5
}
