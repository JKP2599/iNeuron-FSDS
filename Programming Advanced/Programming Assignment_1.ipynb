{
 "cells": [
  {
   "cell_type": "markdown",
   "id": "ac64aac5-640e-4248-887e-ee9f8f400177",
   "metadata": {},
   "source": [
    "1. Write a function that takes a list of lists and returns the value of all of the\n",
    "symbols in it, where each symbol adds or takes something from the total\n",
    "score. Symbol values:\n",
    "\\# = 5\n",
    "O = 3\n",
    "X = 1\n",
    "! = -1\n",
    "!! = -3\n",
    "!!! = -5"
   ]
  },
  {
   "cell_type": "code",
   "execution_count": 11,
   "id": "effc8d6a-357e-4996-99fb-7a85e3401aa8",
   "metadata": {},
   "outputs": [],
   "source": [
    "def check_score(a):\n",
    "    \n",
    "    sym = {'#':5,'O':3,'X':1,'!':-1,'!!':-3,'!!!':-5}\n",
    "    sym_sum = 0\n",
    "    for i in a:\n",
    "        for j in i:\n",
    "            sym_sum+=sym[j]\n",
    "    \n",
    "    if sym_sum<0:\n",
    "        return 0\n",
    "    \n",
    "    return sym_sum"
   ]
  },
  {
   "cell_type": "code",
   "execution_count": 12,
   "id": "e85215a2-3d19-4e12-b396-9ad678733a57",
   "metadata": {},
   "outputs": [
    {
     "data": {
      "text/plain": [
       "2"
      ]
     },
     "execution_count": 12,
     "metadata": {},
     "output_type": "execute_result"
    }
   ],
   "source": [
    "check_score([['#','!'],['!!','X']])"
   ]
  },
  {
   "cell_type": "code",
   "execution_count": 13,
   "id": "c7353c76-2d38-4e74-a77c-a700b33fbb17",
   "metadata": {},
   "outputs": [
    {
     "data": {
      "text/plain": [
       "0"
      ]
     },
     "execution_count": 13,
     "metadata": {},
     "output_type": "execute_result"
    }
   ],
   "source": [
    "check_score([[\"!!!\", \"O\", \"!\"],[\"X\", \"#\", \"!!!\"],[\"!!\", \"X\", \"O\"]]) "
   ]
  },
  {
   "cell_type": "markdown",
   "id": "b84da4c6-7c2c-43a5-93c3-54fb1154f40b",
   "metadata": {},
   "source": [
    "2. Create a function that takes a variable number of arguments, each argument representing the number of items in a group, and returns the number of permutations (combinations) of items that you could get by taking one item from each group."
   ]
  },
  {
   "cell_type": "code",
   "execution_count": 17,
   "id": "1e4bdc01-9c48-450e-965f-977a149a7b57",
   "metadata": {},
   "outputs": [
    {
     "data": {
      "text/plain": [
       "84"
      ]
     },
     "execution_count": 17,
     "metadata": {},
     "output_type": "execute_result"
    }
   ],
   "source": [
    "def combinations(*args):\n",
    "    comb = 1\n",
    "    for i in args:\n",
    "        comb *=i\n",
    "    return comb"
   ]
  },
  {
   "cell_type": "code",
   "execution_count": 18,
   "id": "e7bf7e2f-6424-4c58-994d-4c2ff03d1dd0",
   "metadata": {},
   "outputs": [
    {
     "data": {
      "text/plain": [
       "6"
      ]
     },
     "execution_count": 18,
     "metadata": {},
     "output_type": "execute_result"
    }
   ],
   "source": [
    "combinations(2, 3)"
   ]
  },
  {
   "cell_type": "code",
   "execution_count": 19,
   "id": "1e0e0945-25a4-49a5-a778-2bfe338071b2",
   "metadata": {},
   "outputs": [
    {
     "data": {
      "text/plain": [
       "84"
      ]
     },
     "execution_count": 19,
     "metadata": {},
     "output_type": "execute_result"
    }
   ],
   "source": [
    "combinations(3, 7, 4)"
   ]
  },
  {
   "cell_type": "code",
   "execution_count": 20,
   "id": "815b0000-bcb8-426f-8c09-99cc40aef1cd",
   "metadata": {},
   "outputs": [
    {
     "data": {
      "text/plain": [
       "120"
      ]
     },
     "execution_count": 20,
     "metadata": {},
     "output_type": "execute_result"
    }
   ],
   "source": [
    "combinations(2, 3, 4, 5)"
   ]
  },
  {
   "cell_type": "markdown",
   "id": "a7fa9391-b159-44b1-89a2-e388d5e7c751",
   "metadata": {},
   "source": [
    "3. Create a function that takes a string as an argument and returns the Morse code equivalent."
   ]
  },
  {
   "cell_type": "code",
   "execution_count": 21,
   "id": "e39bf637-e2f2-4d22-b715-1178fa283b51",
   "metadata": {},
   "outputs": [],
   "source": [
    "def encode_morse(string):\n",
    "    char_to_dots = {\n",
    "  'A': '.-', 'B': '-...', 'C': '-.-.', 'D': '-..', 'E': '.', 'F': '..-.',\n",
    "  'G': '--.', 'H': '....', 'I': '..', 'J': '.---', 'K': '-.-', 'L': '.-..',\n",
    "  'M': '--', 'N': '-.', 'O': '---', 'P': '.--.', 'Q': '--.-', 'R': '.-.',\n",
    "  'S': '...', 'T': '-', 'U': '..-', 'V': '...-', 'W': '.--', 'X': '-..-',\n",
    "  'Y': '-.--', 'Z': '--..', ' ': ' ', '0': '-----',\n",
    "  '1': '.----', '2': '..---', '3': '...--', '4': '....-', '5': '.....',\n",
    "  '6': '-....', '7': '--...', '8': '---..', '9': '----.',\n",
    "  '&': '.-...', \"'\": '.----.', '@': '.--.-.', ')': '-.--.-', '(': '-.--.',\n",
    "  ':': '---...', ',': '--..--', '=': '-...-', '!': '-.-.--', '.': '.-.-.-',\n",
    "  '-': '-....-', '+': '.-.-.', '\"': '.-..-.', '?': '..--..', '/': '-..-.'\n",
    "}\n",
    "    morse = ''\n",
    "    for i in string.upper():\n",
    "        morse+=char_to_dots[i]\n",
    "    \n",
    "    return morse\n",
    "        "
   ]
  },
  {
   "cell_type": "code",
   "execution_count": 22,
   "id": "b7c29e02-b300-4622-b7d1-584e79fe3696",
   "metadata": {},
   "outputs": [
    {
     "data": {
      "text/plain": [
       "'.-...--...-.....- -.-......-.-...-...-.--..'"
      ]
     },
     "execution_count": 22,
     "metadata": {},
     "output_type": "execute_result"
    }
   ],
   "source": [
    "encode_morse(\"EDABBIT CHALLENGE\") "
   ]
  },
  {
   "cell_type": "code",
   "execution_count": 23,
   "id": "8873ca4a-2656-4a48-a3ed-9a0fb725ef54",
   "metadata": {},
   "outputs": [
    {
     "data": {
      "text/plain": [
       "'......-...--. --. -.-.--'"
      ]
     },
     "execution_count": 23,
     "metadata": {},
     "output_type": "execute_result"
    }
   ],
   "source": [
    "encode_morse(\"HELP ME !\")"
   ]
  },
  {
   "cell_type": "markdown",
   "id": "6bbf9c2f-38a7-481c-bbec-ca7344f7f25a",
   "metadata": {},
   "source": [
    "4.  Write a function that takes a number and returns True if it's a prime; False otherwise. The number can be 2^64-1 (2 to the power of 63, not XOR). With the standard technique it would be O(2^64-1), which is much too large for the 10 second time limit."
   ]
  },
  {
   "cell_type": "code",
   "execution_count": 24,
   "id": "f16f051b-142d-4564-b0f5-a4429a08685b",
   "metadata": {},
   "outputs": [],
   "source": [
    "def prime(num):\n",
    "    for i in range(2,num):\n",
    "        if num%i==0:\n",
    "            return False\n",
    "    return True"
   ]
  },
  {
   "cell_type": "code",
   "execution_count": 25,
   "id": "03de0c64-201d-49eb-9f64-342161b36cbf",
   "metadata": {},
   "outputs": [
    {
     "data": {
      "text/plain": [
       "True"
      ]
     },
     "execution_count": 25,
     "metadata": {},
     "output_type": "execute_result"
    }
   ],
   "source": [
    "prime(7) "
   ]
  },
  {
   "cell_type": "code",
   "execution_count": 26,
   "id": "47f8f2d6-1d9f-4a7d-8371-28c8d3c7ca96",
   "metadata": {},
   "outputs": [
    {
     "data": {
      "text/plain": [
       "True"
      ]
     },
     "execution_count": 26,
     "metadata": {},
     "output_type": "execute_result"
    }
   ],
   "source": [
    "prime(56963)"
   ]
  },
  {
   "cell_type": "code",
   "execution_count": 27,
   "id": "84637e75-6493-4a7a-93b3-fc482119c81f",
   "metadata": {},
   "outputs": [
    {
     "data": {
      "text/plain": [
       "False"
      ]
     },
     "execution_count": 27,
     "metadata": {},
     "output_type": "execute_result"
    }
   ],
   "source": [
    "prime(5151512515524)"
   ]
  },
  {
   "cell_type": "code",
   "execution_count": 29,
   "id": "bb5ca7df-c500-44e2-9e7a-3818e2a94d3d",
   "metadata": {},
   "outputs": [
    {
     "data": {
      "text/plain": [
       "False"
      ]
     },
     "execution_count": 29,
     "metadata": {},
     "output_type": "execute_result"
    }
   ],
   "source": [
    "prime(2**64-1)"
   ]
  },
  {
   "cell_type": "markdown",
   "id": "bd58fe26-68ef-4257-8a59-12649d70d2e2",
   "metadata": {},
   "source": [
    "5. Create a function that converts a word to a bitstring and then to a boolean\n",
    "    list based on the following criteria:\n",
    "    1. Locate the position of the letter in the English alphabet (from 1 to 26).\n",
    "    2. Odd positions will be represented as 1 and 0 otherwise.\n",
    "    3. Convert the represented positions to boolean values, 1 for True and 0 for False.\n",
    "    4. Store the conversions into an array."
   ]
  },
  {
   "cell_type": "code",
   "execution_count": 39,
   "id": "9292a42a-c1db-4ba0-9e89-04203bda7865",
   "metadata": {},
   "outputs": [],
   "source": [
    "def to_boolean_list(string):\n",
    "    \n",
    "    alpha = 'abcdefghijklmnopqrstuvwxyz'\n",
    "    bool_list = []\n",
    "    for i in string:\n",
    "        index = alpha.index(i.lower())+1\n",
    "        if index%2==0:\n",
    "            bool_list.append(False)\n",
    "        else:\n",
    "            bool_list.append(True)\n",
    "    \n",
    "    return bool_list\n",
    "    "
   ]
  },
  {
   "cell_type": "code",
   "execution_count": 40,
   "id": "a94994a1-506f-4b5b-9862-b01cf7687ea9",
   "metadata": {},
   "outputs": [
    {
     "data": {
      "text/plain": [
       "[False, True, True, False]"
      ]
     },
     "execution_count": 40,
     "metadata": {},
     "output_type": "execute_result"
    }
   ],
   "source": [
    "to_boolean_list(\"deep\") "
   ]
  },
  {
   "cell_type": "code",
   "execution_count": null,
   "id": "9d537356-c20e-496b-9dd2-c157dcf80aab",
   "metadata": {},
   "outputs": [],
   "source": []
  }
 ],
 "metadata": {
  "kernelspec": {
   "display_name": "Python 3 (ipykernel)",
   "language": "python",
   "name": "python3"
  },
  "language_info": {
   "codemirror_mode": {
    "name": "ipython",
    "version": 3
   },
   "file_extension": ".py",
   "mimetype": "text/x-python",
   "name": "python",
   "nbconvert_exporter": "python",
   "pygments_lexer": "ipython3",
   "version": "3.9.12"
  }
 },
 "nbformat": 4,
 "nbformat_minor": 5
}
