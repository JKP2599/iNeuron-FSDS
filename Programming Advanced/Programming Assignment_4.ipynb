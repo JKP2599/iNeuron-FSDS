{
 "cells": [
  {
   "cell_type": "markdown",
   "id": "d28edcd4-368c-480c-950a-6a1dd2d08a4c",
   "metadata": {},
   "source": [
    "1. In mathematics, the Fibonacci numbers, commonly denoted Fn, form a\n",
    "sequence, called the Fibonacci sequence, such that each number is the sum\n",
    "of the two preceding ones, starting from 0 and 1:\n",
    "\n",
    "The beginning of the sequence is this:\n",
    "0, 1, 1, 2, 3, 5, 8, 13, 21, 34, 55, 89, 144, ...\n",
    "The function fastFib(num) returns the fibonacci number Fn, of the given num\n",
    "as an argument."
   ]
  },
  {
   "cell_type": "code",
   "execution_count": 1,
   "id": "67dbfa05-47cb-43c7-ac30-0227485fede2",
   "metadata": {},
   "outputs": [],
   "source": [
    "def fib_fast(num):\n",
    "    if num<=1:\n",
    "        return num\n",
    "    else:\n",
    "        return (fib_fast(num-1)+fib_fast(num-2))\n",
    "        "
   ]
  },
  {
   "cell_type": "code",
   "execution_count": 2,
   "id": "b3976cbe-54bf-4f4b-83f7-26178123554f",
   "metadata": {},
   "outputs": [
    {
     "data": {
      "text/plain": [
       "5"
      ]
     },
     "execution_count": 2,
     "metadata": {},
     "output_type": "execute_result"
    }
   ],
   "source": [
    "fib_fast(5)"
   ]
  },
  {
   "cell_type": "code",
   "execution_count": 3,
   "id": "78f16fb8-b02e-4274-8b2b-69a72eb941eb",
   "metadata": {},
   "outputs": [
    {
     "data": {
      "text/plain": [
       "55"
      ]
     },
     "execution_count": 3,
     "metadata": {},
     "output_type": "execute_result"
    }
   ],
   "source": [
    "fib_fast(10)"
   ]
  },
  {
   "cell_type": "code",
   "execution_count": 4,
   "id": "ff3494c8-4f67-4288-a8ca-5af2a8eb18ef",
   "metadata": {},
   "outputs": [
    {
     "data": {
      "text/plain": [
       "6765"
      ]
     },
     "execution_count": 4,
     "metadata": {},
     "output_type": "execute_result"
    }
   ],
   "source": [
    "fib_fast(20)"
   ]
  },
  {
   "cell_type": "markdown",
   "id": "73ca054c-f9eb-436a-b3d8-3b2c6eb910a6",
   "metadata": {},
   "source": [
    "2. Create a function that takes a string characters as ASCII and returns each\n",
    "characters hexadecimal value as a string."
   ]
  },
  {
   "cell_type": "code",
   "execution_count": 5,
   "id": "531bd2f8-9eb2-46c3-b4a2-b1c99f5da401",
   "metadata": {},
   "outputs": [],
   "source": [
    "def convert_to_hex(string):\n",
    "    hex_con = [hex(ord(i))[2:] for i in string]\n",
    "    return \" \".join(hex_con)"
   ]
  },
  {
   "cell_type": "code",
   "execution_count": 6,
   "id": "a7221197-1db9-4eb4-a082-9534e8f0a66c",
   "metadata": {},
   "outputs": [
    {
     "data": {
      "text/plain": [
       "'68 65 6c 6c 6f 20 77 6f 72 6c 64'"
      ]
     },
     "execution_count": 6,
     "metadata": {},
     "output_type": "execute_result"
    }
   ],
   "source": [
    "convert_to_hex(\"hello world\")"
   ]
  },
  {
   "cell_type": "code",
   "execution_count": 7,
   "id": "cac1a6d2-7de2-4aef-9c4b-fbac454d26d9",
   "metadata": {},
   "outputs": [
    {
     "data": {
      "text/plain": [
       "'42 69 67 20 42 6f 69'"
      ]
     },
     "execution_count": 7,
     "metadata": {},
     "output_type": "execute_result"
    }
   ],
   "source": [
    "convert_to_hex(\"Big Boi\")"
   ]
  },
  {
   "cell_type": "code",
   "execution_count": 8,
   "id": "0372afc5-f392-4620-9aeb-8dde6fdd8a96",
   "metadata": {},
   "outputs": [
    {
     "data": {
      "text/plain": [
       "'4d 61 72 74 79 20 50 6f 70 70 69 6e 73 6f 6e'"
      ]
     },
     "execution_count": 8,
     "metadata": {},
     "output_type": "execute_result"
    }
   ],
   "source": [
    "convert_to_hex(\"Marty Poppinson\")"
   ]
  },
  {
   "cell_type": "markdown",
   "id": "164170ec-3943-4728-b37f-817e3c95087d",
   "metadata": {},
   "source": [
    "3. Someone has attempted to censor my strings by replacing every vowel\n",
    "with a *, l*k* th*s. Luckily, I&#39;ve been able to find the vowels that were\n",
    "removed.\n",
    "Given a censored string and a string of the censored vowels, return the\n",
    "original uncensored string."
   ]
  },
  {
   "cell_type": "code",
   "execution_count": 9,
   "id": "7455eb4c-f74b-4a52-884e-075b93ff77fa",
   "metadata": {},
   "outputs": [],
   "source": [
    "def uncensor(censor,vowels):\n",
    "    \n",
    "    uncensored = []\n",
    "    vcount = 0\n",
    "    for i in censor:\n",
    "        if i=='*':\n",
    "            uncensored.append(vowels[vcount])\n",
    "            vcount+=1\n",
    "        else:\n",
    "            uncensored.append(i)\n",
    "        \n",
    "    return ''.join(uncensored)"
   ]
  },
  {
   "cell_type": "code",
   "execution_count": 10,
   "id": "6288a74c-3869-4944-a3be-760b3a7b8b03",
   "metadata": {},
   "outputs": [
    {
     "data": {
      "text/plain": [
       "'Where did my vowels go?'"
      ]
     },
     "execution_count": 10,
     "metadata": {},
     "output_type": "execute_result"
    }
   ],
   "source": [
    "uncensor(\"Wh*r* d*d my v*w*ls g*?\", \"eeioeo\")"
   ]
  },
  {
   "cell_type": "code",
   "execution_count": 11,
   "id": "a232864f-9cb3-452a-a3a0-43a22390800c",
   "metadata": {},
   "outputs": [
    {
     "data": {
      "text/plain": [
       "'abcd'"
      ]
     },
     "execution_count": 11,
     "metadata": {},
     "output_type": "execute_result"
    }
   ],
   "source": [
    "uncensor(\"abcd\",\"\")"
   ]
  },
  {
   "cell_type": "code",
   "execution_count": 12,
   "id": "d3c58d95-ace6-404d-a3fb-4c058eaa8dd0",
   "metadata": {},
   "outputs": [
    {
     "data": {
      "text/plain": [
       "'UPPERCASE'"
      ]
     },
     "execution_count": 12,
     "metadata": {},
     "output_type": "execute_result"
    }
   ],
   "source": [
    "uncensor(\"*PP*RC*S*\", \"UEAE\")"
   ]
  },
  {
   "cell_type": "markdown",
   "id": "8fc42a08-8335-44ad-858f-7c5d2f309230",
   "metadata": {},
   "source": [
    "4. Write a function that takes an IP address and returns the domain name\n",
    "using PTR DNS records.}"
   ]
  },
  {
   "cell_type": "code",
   "execution_count": 13,
   "id": "163379c6-cd5b-4e49-95cb-300cc49c3d3d",
   "metadata": {},
   "outputs": [],
   "source": [
    "def get_domain(ip_address):\n",
    "    import socket\n",
    "    result=socket.gethostbyaddr(ip_address)\n",
    "    return list(result)[0]"
   ]
  },
  {
   "cell_type": "code",
   "execution_count": 14,
   "id": "b1d09729-9e5b-4406-8bb2-73088abc14e0",
   "metadata": {},
   "outputs": [
    {
     "data": {
      "text/plain": [
       "'dns.google'"
      ]
     },
     "execution_count": 14,
     "metadata": {},
     "output_type": "execute_result"
    }
   ],
   "source": [
    "get_domain('8.8.8.8')"
   ]
  },
  {
   "cell_type": "markdown",
   "id": "7e2c946c-d38f-4465-88e3-3457becac3cf",
   "metadata": {},
   "source": [
    "5. Create a function that takes an integer n and returns the factorial of\n",
    "factorials. See below examples for a better understanding:"
   ]
  },
  {
   "cell_type": "code",
   "execution_count": 15,
   "id": "8291ca3f-66a9-4c18-a22b-be3a4ae64a07",
   "metadata": {},
   "outputs": [],
   "source": [
    "import math\n",
    "def fact_of_fact(num):\n",
    "    fof = 1\n",
    "    while(num>0):\n",
    "        fof *= math.factorial(num)\n",
    "        num-=1\n",
    "    return fof"
   ]
  },
  {
   "cell_type": "code",
   "execution_count": 16,
   "id": "d028f5a4-be87-4511-a0dc-78555fdd71fe",
   "metadata": {},
   "outputs": [
    {
     "data": {
      "text/plain": [
       "288"
      ]
     },
     "execution_count": 16,
     "metadata": {},
     "output_type": "execute_result"
    }
   ],
   "source": [
    "fact_of_fact(4)"
   ]
  },
  {
   "cell_type": "code",
   "execution_count": 17,
   "id": "9bac8f19-8d20-41d9-804a-75aec5e6b114",
   "metadata": {},
   "outputs": [
    {
     "data": {
      "text/plain": [
       "34560"
      ]
     },
     "execution_count": 17,
     "metadata": {},
     "output_type": "execute_result"
    }
   ],
   "source": [
    "fact_of_fact(5)"
   ]
  },
  {
   "cell_type": "code",
   "execution_count": 18,
   "id": "6fe8d690-fe27-433c-8119-336faa0193e5",
   "metadata": {},
   "outputs": [
    {
     "data": {
      "text/plain": [
       "24883200"
      ]
     },
     "execution_count": 18,
     "metadata": {},
     "output_type": "execute_result"
    }
   ],
   "source": [
    "fact_of_fact(6)"
   ]
  }
 ],
 "metadata": {
  "kernelspec": {
   "display_name": "Python 3 (ipykernel)",
   "language": "python",
   "name": "python3"
  },
  "language_info": {
   "codemirror_mode": {
    "name": "ipython",
    "version": 3
   },
   "file_extension": ".py",
   "mimetype": "text/x-python",
   "name": "python",
   "nbconvert_exporter": "python",
   "pygments_lexer": "ipython3",
   "version": "3.9.12"
  }
 },
 "nbformat": 4,
 "nbformat_minor": 5
}
