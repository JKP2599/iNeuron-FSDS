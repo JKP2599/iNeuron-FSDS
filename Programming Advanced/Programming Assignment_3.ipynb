{
 "cells": [
  {
   "cell_type": "markdown",
   "id": "cae8c99d-1eb9-4d4d-a5c8-f8c1a01e62c3",
   "metadata": {},
   "source": [
    "1. Create a function to perform basic arithmetic operations that includes\n",
    "addition, subtraction, multiplication and division on a string number (e.g. &quot;12 +\n",
    "24&quot; or &quot;23 - 21&quot; or &quot;12 // 12&quot; or &quot;12 * 21&quot;).\n"
   ]
  },
  {
   "cell_type": "code",
   "execution_count": 1,
   "id": "3a5cd09f-4e11-431c-b72a-3d93152755a9",
   "metadata": {},
   "outputs": [],
   "source": [
    "def arithmetic_operation(string):\n",
    "    s = string.split(' ')\n",
    "    s[0],s[2] = int(s[0]),int(s[2])\n",
    "    if s[1]=='+':\n",
    "        return (f'{string} = {s[0]+s[2]}')\n",
    "    if s[1]=='-':\n",
    "        return (f'{string} = {s[0]-s[2]}')\n",
    "    if s[1]=='*':\n",
    "        return (f'{string} = {s[0]*s[2]}')\n",
    "    if s[1]=='//':\n",
    "        return (f'{string} = {s[0]//s[2]}')\n",
    "    "
   ]
  },
  {
   "cell_type": "code",
   "execution_count": 2,
   "id": "21242096-c3c5-4ad6-857e-cc3689c3a109",
   "metadata": {},
   "outputs": [
    {
     "data": {
      "text/plain": [
       "'12 + 24 = 36'"
      ]
     },
     "execution_count": 2,
     "metadata": {},
     "output_type": "execute_result"
    }
   ],
   "source": [
    "arithmetic_operation('12 + 24')"
   ]
  },
  {
   "cell_type": "code",
   "execution_count": 3,
   "id": "76a41ef5-afad-4685-befa-707ccb643b9a",
   "metadata": {},
   "outputs": [
    {
     "data": {
      "text/plain": [
       "'12 - 24 = -12'"
      ]
     },
     "execution_count": 3,
     "metadata": {},
     "output_type": "execute_result"
    }
   ],
   "source": [
    "arithmetic_operation('12 - 24')"
   ]
  },
  {
   "cell_type": "code",
   "execution_count": 4,
   "id": "0b1a614b-177c-4cbd-b150-40ef26d5b961",
   "metadata": {},
   "outputs": [
    {
     "data": {
      "text/plain": [
       "'12 * 24 = 288'"
      ]
     },
     "execution_count": 4,
     "metadata": {},
     "output_type": "execute_result"
    }
   ],
   "source": [
    "arithmetic_operation('12 * 24')"
   ]
  },
  {
   "cell_type": "code",
   "execution_count": 5,
   "id": "3163979d-9260-4b79-b785-ecbc8a6a530b",
   "metadata": {},
   "outputs": [
    {
     "data": {
      "text/plain": [
       "'12 // 24 = 0'"
      ]
     },
     "execution_count": 5,
     "metadata": {},
     "output_type": "execute_result"
    }
   ],
   "source": [
    "arithmetic_operation('12 // 24')"
   ]
  },
  {
   "cell_type": "markdown",
   "id": "dbc15bbf-8bff-4623-bffc-6e93be2acf42",
   "metadata": {},
   "source": [
    "2. Write a function that takes the coordinates of three points in the form of a\n",
    "2d array and returns the perimeter of the triangle. The given points are the\n",
    "vertices of a triangle on a two-dimensional plane."
   ]
  },
  {
   "cell_type": "code",
   "execution_count": 6,
   "id": "ef887cf1-2710-416d-b4b2-2d0f8765f100",
   "metadata": {},
   "outputs": [],
   "source": [
    "import math\n",
    "def perimeter(coordinates):\n",
    "    x1,y1 = coordinates[0][0],coordinates[0][1]\n",
    "    x2,y2 = coordinates[1][0],coordinates[1][1]\n",
    "    x3,y3 = coordinates[2][0],coordinates[2][1]\n",
    "    \n",
    "    AB = math.sqrt(((x2-x1)**2)+((y2-y1)**2))\n",
    "    BC = math.sqrt(((x3-x2)**2)+((y3-y2)**2))\n",
    "    CA = math.sqrt(((x1-x3)**2)+((y1-y3)**2))\n",
    "    \n",
    "    return f'Perimeter of the Triangle using the given coordiates is {round(AB+BC+CA,2)} units'"
   ]
  },
  {
   "cell_type": "code",
   "execution_count": 7,
   "id": "90625ac0-f871-401f-ae7a-8469f8bc502c",
   "metadata": {},
   "outputs": [
    {
     "data": {
      "text/plain": [
       "'Perimeter of the Triangle using the given coordiates is 47.08 units'"
      ]
     },
     "execution_count": 7,
     "metadata": {},
     "output_type": "execute_result"
    }
   ],
   "source": [
    "perimeter([[15,7],[5,22],[11,1]])"
   ]
  },
  {
   "cell_type": "markdown",
   "id": "66311b3e-9887-482d-87d8-a4d63bb55096",
   "metadata": {},
   "source": [
    "3. A city skyline can be represented as a 2-D list with 1s representing\n",
    "buildings. In the example below, the height of the tallest building is 4 (second-\n",
    "most right column).\n",
    "\n",
    "[[0, 0, 0, 0, 0, 0],\n",
    "[0, 0, 0, 0, 1, 0],\n",
    "[0, 0, 1, 0, 1, 0],\n",
    "[0, 1, 1, 1, 1, 0],\n",
    "[1, 1, 1, 1, 1, 1]]\n",
    "\n",
    "Create a function that takes a skyline (2-D list of 0&#39;s and 1&#39;s) and returns the\n",
    "height of the tallest skyscraper."
   ]
  },
  {
   "cell_type": "code",
   "execution_count": 8,
   "id": "8410e0a0-e1a3-439d-9dec-9337c77a0d75",
   "metadata": {},
   "outputs": [],
   "source": [
    "def tallest_skyscraper(array):\n",
    "    max_h = len(array)\n",
    "    for i in array:\n",
    "        if 1 in i:\n",
    "            return max_h\n",
    "        else: max_h-=1"
   ]
  },
  {
   "cell_type": "code",
   "execution_count": 9,
   "id": "53b5e2e6-82b0-42f1-87a5-e17c36d0f353",
   "metadata": {},
   "outputs": [
    {
     "data": {
      "text/plain": [
       "3"
      ]
     },
     "execution_count": 9,
     "metadata": {},
     "output_type": "execute_result"
    }
   ],
   "source": [
    "tallest_skyscraper([\n",
    "[0, 0, 0, 0],\n",
    "[0, 1, 0, 0],\n",
    "[0, 1, 1, 0],\n",
    "[1, 1, 1, 1]\n",
    "])"
   ]
  },
  {
   "cell_type": "code",
   "execution_count": 10,
   "id": "f5c2f9ee-a37c-4374-ba3f-4d19847cae08",
   "metadata": {},
   "outputs": [
    {
     "data": {
      "text/plain": [
       "4"
      ]
     },
     "execution_count": 10,
     "metadata": {},
     "output_type": "execute_result"
    }
   ],
   "source": [
    "tallest_skyscraper([\n",
    "[0, 1, 0, 0],\n",
    "[0, 1, 0, 0],\n",
    "[0, 1, 1, 0],\n",
    "[1, 1, 1, 1]\n",
    "])"
   ]
  },
  {
   "cell_type": "code",
   "execution_count": 11,
   "id": "2aa4ec51-7959-42ba-b35e-8e7063f9c020",
   "metadata": {},
   "outputs": [
    {
     "data": {
      "text/plain": [
       "2"
      ]
     },
     "execution_count": 11,
     "metadata": {},
     "output_type": "execute_result"
    }
   ],
   "source": [
    "tallest_skyscraper([\n",
    "[0, 0, 0, 0],\n",
    "[0, 0, 0, 0],\n",
    "[1, 1, 1, 0],\n",
    "[1, 1, 1, 1]\n",
    "])"
   ]
  },
  {
   "cell_type": "markdown",
   "id": "fd22505d-2dfb-4c32-ae49-15d11b1dff60",
   "metadata": {},
   "source": [
    "4. A financial institution provides professional services to banks and claims\n",
    "charges from the customers based on the number of man-days provided.\n",
    "Internally, it has set a scheme to motivate and reward staff to meet and\n",
    "exceed targeted billable utilization and revenues by paying a bonus for each\n",
    "day claimed from customers in excess of a threshold target.\n",
    "This quarterly scheme is calculated with a threshold target of 32 days per\n",
    "quarter, and the incentive payment for each billable day in excess of such\n",
    "threshold target is shown as follows:\n",
    "Days Bonus\n",
    "0 to 32 days Zero\n",
    "33 to 40 days SGD$325 per billable day\n",
    "41 to 48 days SGD$550 per billable day\n",
    "Greater than 48 days SGD$600 per billable day"
   ]
  },
  {
   "cell_type": "code",
   "execution_count": 12,
   "id": "dbcc1b20-6a49-4767-8507-02e831a7820b",
   "metadata": {},
   "outputs": [],
   "source": [
    "def bonus(days):\n",
    "    incentive=0\n",
    "    if days>32 and days<41:\n",
    "        incentive = (days-32)*325\n",
    "    if days>40 and days<49:\n",
    "        incentive = (days-32-8)*550+(8*325)\n",
    "    if days>48:\n",
    "        incentive = (days-32-16)*600+(8*325)+(8*550)\n",
    "        \n",
    "    return incentive"
   ]
  },
  {
   "cell_type": "code",
   "execution_count": 13,
   "id": "0a56cb7f-185f-469b-8e79-38f1f50e2b46",
   "metadata": {},
   "outputs": [
    {
     "data": {
      "text/plain": [
       "0"
      ]
     },
     "execution_count": 13,
     "metadata": {},
     "output_type": "execute_result"
    }
   ],
   "source": [
    "bonus(15)"
   ]
  },
  {
   "cell_type": "code",
   "execution_count": 14,
   "id": "27cf4f59-bead-4006-b1ad-0a9a2165431c",
   "metadata": {},
   "outputs": [
    {
     "data": {
      "text/plain": [
       "1625"
      ]
     },
     "execution_count": 14,
     "metadata": {},
     "output_type": "execute_result"
    }
   ],
   "source": [
    "bonus(37)"
   ]
  },
  {
   "cell_type": "code",
   "execution_count": 15,
   "id": "67277b6e-801f-49e2-be54-0ffb718ea89a",
   "metadata": {},
   "outputs": [
    {
     "data": {
      "text/plain": [
       "8200"
      ]
     },
     "execution_count": 15,
     "metadata": {},
     "output_type": "execute_result"
    }
   ],
   "source": [
    "bonus(50)"
   ]
  },
  {
   "cell_type": "markdown",
   "id": "fc803406-3a6b-4f97-ab6d-6edf5253aee2",
   "metadata": {},
   "source": [
    "5. A number is said to be Disarium if the sum of its digits raised to their\n",
    "respective positions is the number itself.\n",
    "Create a function that determines whether a number is a Disarium or not."
   ]
  },
  {
   "cell_type": "code",
   "execution_count": 16,
   "id": "4b3f2665-1dbd-4d6c-bf01-c9619193ca0f",
   "metadata": {},
   "outputs": [],
   "source": [
    "def is_disarium(num):\n",
    "    \n",
    "    n = num\n",
    "    l = len(str(n))\n",
    "    add = 0    \n",
    "    while(l>0):\n",
    "        rem = n%10\n",
    "        add = add + (rem**l)\n",
    "        n//=10\n",
    "        l-=1\n",
    "\n",
    "    if add == num:\n",
    "        return True\n",
    "    else:\n",
    "        return False"
   ]
  },
  {
   "cell_type": "code",
   "execution_count": 17,
   "id": "5b3a6a47-98ae-488e-9a6b-cea3213f7591",
   "metadata": {},
   "outputs": [
    {
     "data": {
      "text/plain": [
       "False"
      ]
     },
     "execution_count": 17,
     "metadata": {},
     "output_type": "execute_result"
    }
   ],
   "source": [
    "is_disarium(544)"
   ]
  },
  {
   "cell_type": "code",
   "execution_count": 18,
   "id": "580a79b0-99ca-49cc-bb64-acde0b70ebcb",
   "metadata": {},
   "outputs": [
    {
     "data": {
      "text/plain": [
       "True"
      ]
     },
     "execution_count": 18,
     "metadata": {},
     "output_type": "execute_result"
    }
   ],
   "source": [
    "is_disarium(518)"
   ]
  },
  {
   "cell_type": "code",
   "execution_count": 19,
   "id": "de31a441-be39-4f30-aa9a-f89d55c9951e",
   "metadata": {},
   "outputs": [
    {
     "data": {
      "text/plain": [
       "False"
      ]
     },
     "execution_count": 19,
     "metadata": {},
     "output_type": "execute_result"
    }
   ],
   "source": [
    "is_disarium(466)"
   ]
  },
  {
   "cell_type": "code",
   "execution_count": 20,
   "id": "f81a0737-55d4-4704-a382-86b1711b6f5f",
   "metadata": {},
   "outputs": [
    {
     "data": {
      "text/plain": [
       "True"
      ]
     },
     "execution_count": 20,
     "metadata": {},
     "output_type": "execute_result"
    }
   ],
   "source": [
    "is_disarium(8)"
   ]
  }
 ],
 "metadata": {
  "kernelspec": {
   "display_name": "Python 3 (ipykernel)",
   "language": "python",
   "name": "python3"
  },
  "language_info": {
   "codemirror_mode": {
    "name": "ipython",
    "version": 3
   },
   "file_extension": ".py",
   "mimetype": "text/x-python",
   "name": "python",
   "nbconvert_exporter": "python",
   "pygments_lexer": "ipython3",
   "version": "3.9.12"
  }
 },
 "nbformat": 4,
 "nbformat_minor": 5
}
